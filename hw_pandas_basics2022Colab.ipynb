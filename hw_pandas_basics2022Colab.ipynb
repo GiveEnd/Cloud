{
  "cells": [
    {
      "cell_type": "markdown",
      "metadata": {
        "id": "view-in-github",
        "colab_type": "text"
      },
      "source": [
        "<a href=\"https://colab.research.google.com/github/GiveEnd/Cloud/blob/main/hw_pandas_basics2022Colab.ipynb\" target=\"_parent\"><img src=\"https://colab.research.google.com/assets/colab-badge.svg\" alt=\"Open In Colab\"/></a>"
      ]
    },
    {
      "cell_type": "markdown",
      "metadata": {
        "id": "hpUsXylDPpwC"
      },
      "source": [
        "## Домашнее задание 3. Основы pandas"
      ]
    },
    {
      "cell_type": "markdown",
      "metadata": {
        "id": "MFnKNyxQPpwE"
      },
      "source": [
        "Ответом на это домашнее задание будет являться заполненный `ipynb` файл. В этом домашнем задании предлагается решить задачи ниже. В качестве ответа на домашнее задание  будет приниматься написанный в поле под задачей код на `Python` после поля `#ответ`."
      ]
    },
    {
      "cell_type": "markdown",
      "metadata": {
        "id": "8Qqcep-EPpwF"
      },
      "source": [
        "Если вам нужна помощь в выполнении данного домашнего задания, пожалуйста, воспользуйтесь следующими open-source туториалами:  \n",
        "1. https://nbviewer.org/github/justmarkham/pandas-videos/blob/master/pandas.ipynb - хороший ресурс, в котором вы можете найти справку по основным функциональностям пандаса, начиная с основ (базовых вещей), заканчивая чем-то более продвинутым. Здесь так же вы найдете несколько примеров выполнения различных функций.  Очень рекомендую пользоваться им как основным справочником.\n",
        "2. https://github.com/guipsamora/pandas_exercises/ - здесь вы найдете 11 тем с примерами и ответами на них."
      ]
    },
    {
      "cell_type": "markdown",
      "metadata": {
        "id": "FTTS7YlmPpwG"
      },
      "source": [
        "### 1. Загрузка библиотеки и таблицы"
      ]
    },
    {
      "cell_type": "code",
      "execution_count": 86,
      "metadata": {
        "id": "w3pS31vgPpwG"
      },
      "outputs": [],
      "source": [
        "# загрузите библиотеку pandas\n",
        "import pandas as pd"
      ]
    },
    {
      "cell_type": "code",
      "execution_count": 87,
      "metadata": {
        "id": "ELiCCFeaPpwH"
      },
      "outputs": [],
      "source": [
        "# Загрузка данных из файла CSV\n",
        "df = pd.read_csv('https://raw.githubusercontent.com/GiveEnd/Cloud/main/kc_house_data.csv')"
      ]
    },
    {
      "cell_type": "markdown",
      "metadata": {
        "id": "hIFS5mUBPpwJ"
      },
      "source": [
        "**Как много NAN значений в колонке `yr_built`?**"
      ]
    },
    {
      "cell_type": "code",
      "execution_count": null,
      "metadata": {
        "id": "BIZzE3wzPpwJ",
        "colab": {
          "base_uri": "https://localhost:8080/"
        },
        "outputId": "3dd0909a-2cd9-4006-86d3-a1a25e75dce3"
      },
      "outputs": [
        {
          "output_type": "stream",
          "name": "stdout",
          "text": [
            "0\n"
          ]
        }
      ],
      "source": [
        "# ответ\n",
        "nan_count = df['yr_built'].isna().sum()\n",
        "print(nan_count)"
      ]
    },
    {
      "cell_type": "markdown",
      "metadata": {
        "id": "oYN3hQ0kPpwK"
      },
      "source": [
        "**Сколько уникальных значений присутствует в колонке `yr_renovated`?**"
      ]
    },
    {
      "cell_type": "code",
      "execution_count": null,
      "metadata": {
        "id": "pVQhlKOkPpwK",
        "colab": {
          "base_uri": "https://localhost:8080/"
        },
        "outputId": "d6ce210d-5ad5-41f4-fdf5-1fb2dff0be80"
      },
      "outputs": [
        {
          "output_type": "stream",
          "name": "stdout",
          "text": [
            "70\n"
          ]
        }
      ],
      "source": [
        "# ответ\n",
        "unique_values = df['yr_renovated'].nunique()\n",
        "print(unique_values)"
      ]
    },
    {
      "cell_type": "markdown",
      "metadata": {
        "id": "LoC5fRoAPpwK"
      },
      "source": [
        "**Чему равняется max, min, mean и std значения колонки `price`?**"
      ]
    },
    {
      "cell_type": "code",
      "execution_count": null,
      "metadata": {
        "id": "KTIlSSBQPpwL",
        "colab": {
          "base_uri": "https://localhost:8080/"
        },
        "outputId": "83fdd0aa-0bdf-47e7-90ae-f26be98607ee"
      },
      "outputs": [
        {
          "output_type": "stream",
          "name": "stdout",
          "text": [
            "Макс: 7700000.0\n",
            "Мин: 75000.0\n",
            "Среднее: 540088.1417665294\n",
            "Стандартное: 367127.19648269983\n"
          ]
        }
      ],
      "source": [
        "# ответ\n",
        "max_price = df['price'].max()\n",
        "min_price = df['price'].min()\n",
        "mean_price = df['price'].mean()\n",
        "std_price = df['price'].std()\n",
        "\n",
        "print(\"Макс:\", max_price)\n",
        "print(\"Мин:\", min_price)\n",
        "print(\"Среднее:\", mean_price)\n",
        "print(\"Стандартное:\", std_price)"
      ]
    },
    {
      "cell_type": "markdown",
      "metadata": {
        "id": "IIXImjkVPpwL"
      },
      "source": [
        "### 3. Выбор данных"
      ]
    },
    {
      "cell_type": "markdown",
      "metadata": {
        "id": "emGBgq6hPpwL"
      },
      "source": [
        "**Сколько ванн в доме под строчкой 314?**"
      ]
    },
    {
      "cell_type": "code",
      "execution_count": null,
      "metadata": {
        "id": "hGkWPPf5PpwL",
        "colab": {
          "base_uri": "https://localhost:8080/"
        },
        "outputId": "487b9fbe-b3ef-4a14-9497-12441c55f7fa"
      },
      "outputs": [
        {
          "output_type": "stream",
          "name": "stdout",
          "text": [
            "2.5\n"
          ]
        }
      ],
      "source": [
        "# ответ\n",
        "bathrooms = df.loc[312, 'bathrooms']\n",
        "\n",
        "print(bathrooms)"
      ]
    },
    {
      "cell_type": "markdown",
      "metadata": {
        "id": "km7vq5ZGPpwM"
      },
      "source": [
        "**Чему ровняется столбец condition дома с индексом, равным 252000300?**"
      ]
    },
    {
      "cell_type": "code",
      "execution_count": null,
      "metadata": {
        "id": "pR5N2nE8PpwM",
        "colab": {
          "base_uri": "https://localhost:8080/"
        },
        "outputId": "6fd6ec02-f6af-4f46-d07a-cf08e0a157b0"
      },
      "outputs": [
        {
          "output_type": "stream",
          "name": "stdout",
          "text": [
            "3\n"
          ]
        }
      ],
      "source": [
        "# ответ\n",
        "condition = df.loc[df['id'] == 252000300, 'condition'].values[0]\n",
        "print(condition)"
      ]
    },
    {
      "cell_type": "markdown",
      "source": [],
      "metadata": {
        "id": "tx-NOwqZpHuG"
      }
    },
    {
      "cell_type": "markdown",
      "metadata": {
        "id": "k1gEwWTwPpwM"
      },
      "source": [
        "**Чему ровняется значение столбца `floors` для домов, построенных в 1999 с 5 спальнями и `sqft living` равным 3400?**  \n",
        "Решите, пользуясь `df[mask]`"
      ]
    },
    {
      "cell_type": "code",
      "execution_count": null,
      "metadata": {
        "id": "lfl4MzwpPpwN",
        "colab": {
          "base_uri": "https://localhost:8080/"
        },
        "outputId": "ab3c80e4-eb81-4965-90ee-bee64546cf66"
      },
      "outputs": [
        {
          "output_type": "stream",
          "name": "stdout",
          "text": [
            "2.0\n"
          ]
        }
      ],
      "source": [
        "# ответ\n",
        "floors = df[(df['yr_built'] == 1999) & (df['bedrooms'] == 5) & (df['sqft_living'] == 3400)]['floors'].values[0]\n",
        "\n",
        "print(floors)"
      ]
    },
    {
      "cell_type": "markdown",
      "metadata": {
        "id": "c66YL3XtPpwN"
      },
      "source": [
        "**Какая цена самого дорого дома, построенного в промежутке с 1991 по 2000 года?**  \n",
        "Решите с помощью `query`"
      ]
    },
    {
      "cell_type": "code",
      "execution_count": null,
      "metadata": {
        "id": "8O2T7I58PpwN",
        "colab": {
          "base_uri": "https://localhost:8080/"
        },
        "outputId": "affb4b1d-2f78-4bd0-edaa-823b0ba27442"
      },
      "outputs": [
        {
          "output_type": "stream",
          "name": "stdout",
          "text": [
            "5300000.0\n"
          ]
        }
      ],
      "source": [
        "# ответ\n",
        "max_price = df.query('1991 <= yr_built <= 2000')['price'].max()\n",
        "print(max_price)"
      ]
    },
    {
      "cell_type": "markdown",
      "metadata": {
        "id": "utdrZKvpPpwN"
      },
      "source": [
        "**Какой наиболее чаще встречающийся `zipcode` среди домов `condition` которых равен 1 или 2 ?**"
      ]
    },
    {
      "cell_type": "code",
      "execution_count": null,
      "metadata": {
        "id": "uyPZwtLjPpwN",
        "colab": {
          "base_uri": "https://localhost:8080/"
        },
        "outputId": "77bc96cd-fbcf-4741-f7a5-30389a1bd897"
      },
      "outputs": [
        {
          "output_type": "stream",
          "name": "stdout",
          "text": [
            "5118\n"
          ]
        }
      ],
      "source": [
        "# ответ\n",
        "zipcode_counts = df[df['condition'].isin([1, 2])]['zipcode'].value_counts()\n",
        "most = zipcode_counts.idxmax()\n",
        "print(most)"
      ]
    },
    {
      "cell_type": "markdown",
      "metadata": {
        "id": "g_DUZfcbPpwO"
      },
      "source": [
        "### 4. Создание новых колонок"
      ]
    },
    {
      "cell_type": "markdown",
      "metadata": {
        "id": "f4l_soMoPpwO"
      },
      "source": [
        "**Создайте новую колонку с называнием `sqft_aver_floor`, где будет раниться результат вычисления деления `sqft_living` на `floors`. Отобразите таблицу, в которой будет содержаться этот столбец.**"
      ]
    },
    {
      "cell_type": "code",
      "execution_count": null,
      "metadata": {
        "id": "vnmglegUPpwO",
        "colab": {
          "base_uri": "https://localhost:8080/"
        },
        "outputId": "336ed7a0-4b28-40f0-f813-7a853360f5e3"
      },
      "outputs": [
        {
          "output_type": "stream",
          "name": "stdout",
          "text": [
            "       sqft_aver_floor  sqft_living  floors\n",
            "0               1180.0         1180     1.0\n",
            "1               1285.0         2570     2.0\n",
            "2                770.0          770     1.0\n",
            "3               1960.0         1960     1.0\n",
            "4               1680.0         1680     1.0\n",
            "...                ...          ...     ...\n",
            "21608            510.0         1530     3.0\n",
            "21609           1155.0         2310     2.0\n",
            "21610            510.0         1020     2.0\n",
            "21611            800.0         1600     2.0\n",
            "21612            510.0         1020     2.0\n",
            "\n",
            "[21613 rows x 3 columns]\n"
          ]
        }
      ],
      "source": [
        "# ответ\n",
        "df['sqft_aver_floor'] = df['sqft_living'] / df['floors']\n",
        "print(df[['sqft_aver_floor', 'sqft_living', 'floors']])"
      ]
    },
    {
      "cell_type": "markdown",
      "metadata": {
        "id": "89ETU9oJPpwO"
      },
      "source": [
        "**Создайте новый столбец с названием `sqm_tot_living` полльзуясь колонкой `sqft_living` и зная, что 1 foot = 0.3048 метрам. Отобразите таблицу, в которой будет содержаться этот столбец.**"
      ]
    },
    {
      "cell_type": "code",
      "execution_count": null,
      "metadata": {
        "id": "9t5sZdLBPpwO",
        "colab": {
          "base_uri": "https://localhost:8080/"
        },
        "outputId": "b60c7e73-fed0-4ab9-a3b5-5dc55c8473a7"
      },
      "outputs": [
        {
          "output_type": "stream",
          "name": "stdout",
          "text": [
            "       sqft_living  sqm_tot_living\n",
            "0             1180      109.625587\n",
            "1             2570      238.760813\n",
            "2              770       71.535341\n",
            "3             1960      182.089958\n",
            "4             1680      156.077107\n",
            "...            ...             ...\n",
            "21608         1530      142.141651\n",
            "21609         2310      214.606022\n",
            "21610         1020       94.761101\n",
            "21611         1600      148.644864\n",
            "21612         1020       94.761101\n",
            "\n",
            "[21613 rows x 2 columns]\n"
          ]
        }
      ],
      "source": [
        "# ответ\n",
        "df['sqm_tot_living'] = df['sqft_living'] * (0.3048 ** 2)\n",
        "print(df[['sqft_living', 'sqm_tot_living']])"
      ]
    },
    {
      "cell_type": "markdown",
      "metadata": {
        "id": "Lot5OeaVPpwP"
      },
      "source": [
        "### 5. Препроцессинг данных"
      ]
    },
    {
      "cell_type": "markdown",
      "metadata": {
        "id": "SCGdsIyePpwP"
      },
      "source": [
        "**Создайте столбцы `year`, `month`, `day`, `weekday` аналогично созданным на семинаре.**  \n",
        "Постарайтесь решить здачу без подгляядки в семинарский `ipynb` файл"
      ]
    },
    {
      "cell_type": "code",
      "execution_count": 89,
      "metadata": {
        "id": "SkJ3NKzVPpwP",
        "colab": {
          "base_uri": "https://localhost:8080/"
        },
        "outputId": "f739815f-8f22-4038-e5dc-7c76d06492f3"
      },
      "outputs": [
        {
          "output_type": "stream",
          "name": "stdout",
          "text": [
            "            date  year  month  day  weekday\n",
            "0     2014-10-13  2014     10   13        0\n",
            "1     2014-12-09  2014     12    9        1\n",
            "2     2015-02-25  2015      2   25        2\n",
            "3     2014-12-09  2014     12    9        1\n",
            "4     2015-02-18  2015      2   18        2\n",
            "...          ...   ...    ...  ...      ...\n",
            "21608 2014-05-21  2014      5   21        2\n",
            "21609 2015-02-23  2015      2   23        0\n",
            "21610 2014-06-23  2014      6   23        0\n",
            "21611 2015-01-16  2015      1   16        4\n",
            "21612 2014-10-15  2014     10   15        2\n",
            "\n",
            "[21613 rows x 5 columns]\n"
          ]
        }
      ],
      "source": [
        "# ответ\n",
        "df['date'] = pd.to_datetime(df['date'])\n",
        "df['year'] = df['date'].dt.year\n",
        "df['month'] = df['date'].dt.month\n",
        "df['day'] = df['date'].dt.day\n",
        "df['weekday'] = df['date'].dt.weekday\n",
        "\n",
        "print(df[['date', 'year', 'month', 'day', 'weekday']])"
      ]
    },
    {
      "cell_type": "markdown",
      "metadata": {
        "id": "C4TuHBs6PpwP"
      },
      "source": [
        "### 6. Функция Group by"
      ]
    },
    {
      "cell_type": "markdown",
      "metadata": {
        "id": "POoIcgWdPpwP"
      },
      "source": [
        "**Создайте новую колонку с названием `price_by_year`, где будут храниться значения группировки колонки `year` и посчитано медианное (`.meadian()`) значение столбца `price`.**  "
      ]
    },
    {
      "cell_type": "code",
      "execution_count": 104,
      "metadata": {
        "id": "r4pftk-uPpwP",
        "colab": {
          "base_uri": "https://localhost:8080/"
        },
        "outputId": "742df9cb-6385-4803-db58-e46ecdfa9699"
      },
      "outputs": [
        {
          "output_type": "stream",
          "name": "stdout",
          "text": [
            "       price_by_year  year     price\n",
            "0           450000.0  2014  221900.0\n",
            "1           450000.0  2014  538000.0\n",
            "2           450500.0  2015  180000.0\n",
            "3           450000.0  2014  604000.0\n",
            "4           450500.0  2015  510000.0\n",
            "...              ...   ...       ...\n",
            "21608       450000.0  2014  360000.0\n",
            "21609       450500.0  2015  400000.0\n",
            "21610       450000.0  2014  402101.0\n",
            "21611       450500.0  2015  400000.0\n",
            "21612       450000.0  2014  325000.0\n",
            "\n",
            "[21613 rows x 3 columns]\n"
          ]
        }
      ],
      "source": [
        "# ответ\n",
        "df['price_by_year'] = df.groupby('year')['price'].transform('median')\n",
        "print(df[['price_by_year', 'year', 'price']])"
      ]
    },
    {
      "cell_type": "markdown",
      "metadata": {
        "id": "R90oJrEdPpwQ"
      },
      "source": [
        "**Создайте новую колонку с названием `area_by_price`, где будут храниться значения группировки колонки `condition` и посчитано среднее значение столбца `sqft_living`.**  "
      ]
    },
    {
      "cell_type": "code",
      "execution_count": 105,
      "metadata": {
        "id": "b6X1ofa6PpwQ",
        "colab": {
          "base_uri": "https://localhost:8080/"
        },
        "outputId": "d8a32907-ae11-4395-e9b3-b44d7c36fd7c"
      },
      "outputs": [
        {
          "output_type": "stream",
          "name": "stdout",
          "text": [
            "       area_by_price  condition  sqft_living\n",
            "0        2149.042050          3         1180\n",
            "1        2149.042050          3         2570\n",
            "2        2149.042050          3          770\n",
            "3        2022.911229          5         1960\n",
            "4        2149.042050          3         1680\n",
            "...              ...        ...          ...\n",
            "21608    2149.042050          3         1530\n",
            "21609    2149.042050          3         2310\n",
            "21610    2149.042050          3         1020\n",
            "21611    2149.042050          3         1600\n",
            "21612    2149.042050          3         1020\n",
            "\n",
            "[21613 rows x 3 columns]\n"
          ]
        }
      ],
      "source": [
        "# ответ\n",
        "df['area_by_price'] = df.groupby('condition')['sqft_living'].transform('mean')\n",
        "print(df[['area_by_price', 'condition', 'sqft_living']])"
      ]
    },
    {
      "cell_type": "markdown",
      "metadata": {
        "id": "Y0XnQJ7vPpwQ"
      },
      "source": [
        "### Важно\n",
        "Перед отправкой убедитесь, что все функции работают. Для этого выполните: File -> Save Notebook, Kernel -> Restart Kernel... в верхней панели и еще раз запустите все ячейки. Желаю успехов!"
      ]
    }
  ],
  "metadata": {
    "kernelspec": {
      "display_name": "Python 3",
      "language": "python",
      "name": "python3"
    },
    "language_info": {
      "codemirror_mode": {
        "name": "ipython",
        "version": 3
      },
      "file_extension": ".py",
      "mimetype": "text/x-python",
      "name": "python",
      "nbconvert_exporter": "python",
      "pygments_lexer": "ipython3",
      "version": "3.8.0"
    },
    "colab": {
      "provenance": [],
      "include_colab_link": true
    }
  },
  "nbformat": 4,
  "nbformat_minor": 0
}